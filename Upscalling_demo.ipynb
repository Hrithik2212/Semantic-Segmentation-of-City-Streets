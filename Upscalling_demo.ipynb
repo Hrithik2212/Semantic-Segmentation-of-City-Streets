{
 "cells": [
  {
   "cell_type": "code",
   "execution_count": 2,
   "metadata": {},
   "outputs": [],
   "source": [
    "import torch \n",
    "import torch.nn as nn "
   ]
  },
  {
   "cell_type": "code",
   "execution_count": 3,
   "metadata": {},
   "outputs": [],
   "source": [
    "m = nn.ConvTranspose2d(1,1,\n",
    "                    kernel_size=(2,2),\n",
    "                    stride=2,\n",
    "                    padding=0)"
   ]
  },
  {
   "attachments": {},
   "cell_type": "markdown",
   "metadata": {},
   "source": [
    "## _Internally padding is calculated as_\n",
    "\n",
    "_***Added Padding** = dilation * (Kernel Size - 1) - Padding*_\n",
    "\n",
    "#### Thus in the above scenario \n",
    "\n",
    "_**Added Padding**_ = 1*(2-1)-0 = 1"
   ]
  },
  {
   "cell_type": "code",
   "execution_count": 22,
   "metadata": {},
   "outputs": [],
   "source": [
    "@torch.no_grad()\n",
    "def Upscale(input):\n",
    "    output = m(input)\n",
    "    print(output.shape)\n",
    "    return output"
   ]
  },
  {
   "cell_type": "code",
   "execution_count": 29,
   "metadata": {},
   "outputs": [
    {
     "data": {
      "text/plain": [
       "tensor([[[[1., 1., 1.],\n",
       "          [1., 1., 1.],\n",
       "          [1., 1., 1.]]]])"
      ]
     },
     "execution_count": 29,
     "metadata": {},
     "output_type": "execute_result"
    }
   ],
   "source": [
    "input = torch.ones(1,1,3,3)\n",
    "input"
   ]
  },
  {
   "cell_type": "code",
   "execution_count": 30,
   "metadata": {},
   "outputs": [
    {
     "name": "stdout",
     "output_type": "stream",
     "text": [
      "torch.Size([1, 1, 6, 6])\n"
     ]
    }
   ],
   "source": [
    "output = Upscale(input)"
   ]
  },
  {
   "cell_type": "code",
   "execution_count": 32,
   "metadata": {},
   "outputs": [
    {
     "data": {
      "text/plain": [
       "tensor([[[[0.3233, 0.5879, 0.3233, 0.5879, 0.3233, 0.5879],\n",
       "          [0.5722, 0.2988, 0.5722, 0.2988, 0.5722, 0.2988],\n",
       "          [0.3233, 0.5879, 0.3233, 0.5879, 0.3233, 0.5879],\n",
       "          [0.5722, 0.2988, 0.5722, 0.2988, 0.5722, 0.2988],\n",
       "          [0.3233, 0.5879, 0.3233, 0.5879, 0.3233, 0.5879],\n",
       "          [0.5722, 0.2988, 0.5722, 0.2988, 0.5722, 0.2988]]]])"
      ]
     },
     "execution_count": 32,
     "metadata": {},
     "output_type": "execute_result"
    }
   ],
   "source": [
    "output"
   ]
  },
  {
   "attachments": {},
   "cell_type": "markdown",
   "metadata": {},
   "source": [
    "---"
   ]
  }
 ],
 "metadata": {
  "kernelspec": {
   "display_name": "Python 3",
   "language": "python",
   "name": "python3"
  },
  "language_info": {
   "codemirror_mode": {
    "name": "ipython",
    "version": 3
   },
   "file_extension": ".py",
   "mimetype": "text/x-python",
   "name": "python",
   "nbconvert_exporter": "python",
   "pygments_lexer": "ipython3",
   "version": "3.9.6 (tags/v3.9.6:db3ff76, Jun 28 2021, 15:26:21) [MSC v.1929 64 bit (AMD64)]"
  },
  "orig_nbformat": 4,
  "vscode": {
   "interpreter": {
    "hash": "0bae745f8ec4217fabcb8fee07d6f0cfda3eab62b76dc08b9184a36fb0012116"
   }
  }
 },
 "nbformat": 4,
 "nbformat_minor": 2
}
